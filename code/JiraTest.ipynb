{
  "nbformat": 4,
  "nbformat_minor": 0,
  "metadata": {
    "colab": {
      "provenance": [],
      "authorship_tag": "ABX9TyNvAw+HhOcHs8J0lBPnmgSB",
      "include_colab_link": true
    },
    "kernelspec": {
      "name": "python3",
      "display_name": "Python 3"
    },
    "language_info": {
      "name": "python"
    }
  },
  "cells": [
    {
      "cell_type": "markdown",
      "metadata": {
        "id": "view-in-github",
        "colab_type": "text"
      },
      "source": [
        "<a href=\"https://colab.research.google.com/github/hvasquez28/JiraDataScience/blob/main/code/JiraTest.ipynb\" target=\"_parent\"><img src=\"https://colab.research.google.com/assets/colab-badge.svg\" alt=\"Open In Colab\"/></a>"
      ]
    },
    {
      "cell_type": "code",
      "execution_count": null,
      "metadata": {
        "id": "5Gu5JkOd96rQ"
      },
      "outputs": [],
      "source": [
        "!pip install jira\n",
        "from jira import JIRA\n",
        "import os\n",
        "import pandas"
      ]
    },
    {
      "cell_type": "markdown",
      "source": [
        " There are two environment variables for Jira.\n",
        "\n",
        "    * JIRA_API_TOKEN - This is your personal API token.  You can get the token by going to https://jsw.ibm.com/plugins/servlet/de.resolution.apitokenauth/admin\n",
        "    * JIRA_USER_EMAIL - This is your email address that you log in with.\n",
        "\n",
        "    In your .env file, make sure you have the following with the values set:\n",
        "\n",
        "    ```shell\n",
        "\n",
        "    JIRA_API_TOKEN=\n",
        "    JIRA_USER_EMAIL=\n",
        "    ```\n",
        "    \n",
        "    <hr>\n",
        "    \n",
        "    With the email address and API Token you log into jsw.ibm.com so that you can run queries."
      ],
      "metadata": {
        "id": "jhCrwTwX-Tgo"
      }
    },
    {
      "cell_type": "code",
      "source": [
        "#API_TOKEN = os.getenv('JIRA_API_TOKEN')\n",
        "#USER_EMAIL= os.getenv('JIRA_USER_EMAIL'),\n",
        "API_TOKEN = 'uPKLaedR5rreSaEy8B2VHTNp8GQJRVv7fuqkm3'\n",
        "USER_EMAIL= 'harold.vasquez@ibm.com'\n",
        "jira = JIRA(server=\"https://jsw.ibm.com\", basic_auth=(USER_EMAIL, API_TOKEN))"
      ],
      "metadata": {
        "id": "yw_tDw-7EAfn"
      },
      "execution_count": 2,
      "outputs": []
    },
    {
      "cell_type": "markdown",
      "source": [
        "Now that you're logged in you can search for issues with your usual queries that you perform in Jira.  You're making use of the search_issues() API which is on https://jira.readthedocs.io/api.html#jira.client.JIRA.search_issues.  You can search for other APIs on that same page."
      ],
      "metadata": {
        "id": "rJiCwdHIE03R"
      }
    },
    {
      "cell_type": "code",
      "source": [
        "partner_ecosystem_pipeline_tickets = jira.search_issues(\"\"\"\n",
        "            team = 6965 OR team = 2601 AND Team != 14279\n",
        "            OR assignee in (\"Juan.Buenrostro@ibm.com\", \"harold.vasquez@ibm.com\", \"adriana.zarate@ibm.com\",\n",
        "                \"Rolando.Garcia.Arreguin@ibm.com\", \"david.mariscal@ibm.com\", \"David.Lopez.Uribe@ibm.com\",\n",
        "                \"Jesus.Eduardo.Ramirez.Cota@ibm.com\", \"Luis.Rolando.Conde.Esnayra@ibm.com\", \"Jesus.Joel.Rivas@ibm.com\",\n",
        "                \"angelica.aguilar@ibm.com\", \"alexandre.jeronne@ibm.com\") OR assignee in (\"diegos@ibm.com\", \"armando@mx1.ibm.com\")\n",
        "            AND (summary ~ \"ALL\" OR summary ~ BPC OR summary ~ PWC OR summary ~ IBMED OR summary ~ PRM\n",
        "            OR summary ~ GSD OR summary ~ BPCD OR summary ~ MyPWL OR summary ~ C2S2 OR summary ~ Tracker)\n",
        "            OR assignee is EMPTY AND (team = 2601 OR team = 6965) ORDER BY Rank ASC\n",
        "        \"\"\", fields='*all')\n",
        "display(partner_ecosystem_pipeline_tickets)"
      ],
      "metadata": {
        "id": "kWgUq6foE1t7"
      },
      "execution_count": null,
      "outputs": []
    },
    {
      "cell_type": "markdown",
      "source": [
        "In the previous cell I assigned the result to partner_ecosystem_pipeline_tickets.  You can then look at different pieces of information of the issues that you've retrieved."
      ],
      "metadata": {
        "id": "rEkrBsfrF250"
      }
    },
    {
      "cell_type": "code",
      "source": [
        "for ticket in partner_ecosystem_pipeline_tickets:\n",
        "        print(f'The issue is {ticket.key} with summary {ticket.get_field(\"summary\")}, priority {ticket.get_field(\"priority\")}, and body {ticket.get_field(\"description\")}')"
      ],
      "metadata": {
        "id": "YcvxPpVeF5tR"
      },
      "execution_count": null,
      "outputs": []
    },
    {
      "cell_type": "code",
      "source": [
        "key_ticket_details = []\n",
        "for ticket in partner_ecosystem_pipeline_tickets:\n",
        "    story_points = ''\n",
        "    try:\n",
        "        story_points = getattr(ticket.fields, 'customfield_10106')\n",
        "    except:\n",
        "        story_points = ''\n",
        "    key_ticket_details.append({\n",
        "        'Key': ticket.key,\n",
        "        'Priority': ticket.get_field('priority'),\n",
        "        'Status': ticket.get_field('status'),\n",
        "        'Type': ticket.get_field('issuetype'),\n",
        "        'Summary': ticket.get_field('summary'),\n",
        "        'Story Points': story_points\n",
        "    })"
      ],
      "metadata": {
        "id": "D1AtJYeUGdhU"
      },
      "execution_count": 6,
      "outputs": []
    },
    {
      "cell_type": "code",
      "source": [
        "pandas.DataFrame(key_ticket_details)"
      ],
      "metadata": {
        "id": "fBU7HDQrHR9h"
      },
      "execution_count": null,
      "outputs": []
    }
  ]
}